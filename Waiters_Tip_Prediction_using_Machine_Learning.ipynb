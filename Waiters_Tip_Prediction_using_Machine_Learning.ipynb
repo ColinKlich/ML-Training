{
  "cells": [
    {
      "cell_type": "code",
      "execution_count": 4,
      "metadata": {
        "id": "VA7E4I1cWnie"
      },
      "outputs": [],
      "source": [
        "import numpy as np\n",
        "import pandas as pd\n",
        "import seaborn as sb\n",
        "import matplotlib.pyplot as plt\n",
        "\n",
        "from sklearn.metrics import mean_absolute_error as mae\n",
        "from sklearn.model_selection import train_test_split\n",
        "from sklearn.preprocessing import StandardScaler, LabelEncoder\n",
        "from sklearn.linear_model import LinearRegression\n",
        "from xgboost import XGBRegressor\n",
        "from sklearn.ensemble import RandomForestRegressor, AdaBoostRegressor\n",
        "\n",
        "import warnings\n",
        "warnings.filterwarnings('ignore')"
      ]
    },
    {
      "cell_type": "code",
      "execution_count": null,
      "metadata": {
        "colab": {
          "base_uri": "https://localhost:8080/",
          "height": 206
        },
        "id": "CM4whgDPWsrf",
        "outputId": "a14f35bc-38f7-4c49-b972-2b3318f666e7"
      },
      "outputs": [],
      "source": [
        "df = pd.read_csv('tips.csv')\n",
        "# df.head()"
      ]
    },
    {
      "cell_type": "code",
      "execution_count": null,
      "metadata": {
        "colab": {
          "base_uri": "https://localhost:8080/"
        },
        "id": "bFeBtZgZWuBQ",
        "outputId": "e4fc979c-f5f8-43e0-8894-a56c1384f3ec"
      },
      "outputs": [],
      "source": [
        "# df.shape"
      ]
    },
    {
      "cell_type": "code",
      "execution_count": null,
      "metadata": {
        "colab": {
          "base_uri": "https://localhost:8080/"
        },
        "id": "fvbu69EaWu8k",
        "outputId": "38d4825c-ac89-43ce-b04d-af5e809b4b22"
      },
      "outputs": [],
      "source": [
        "# df.info()"
      ]
    },
    {
      "cell_type": "code",
      "execution_count": null,
      "metadata": {
        "colab": {
          "base_uri": "https://localhost:8080/",
          "height": 143
        },
        "id": "XtvMg4YOWv5i",
        "outputId": "43a3b262-52e5-43cd-ab35-0223246b1a68"
      },
      "outputs": [],
      "source": [
        "# df.describe().T"
      ]
    },
    {
      "cell_type": "code",
      "execution_count": null,
      "metadata": {
        "colab": {
          "base_uri": "https://localhost:8080/",
          "height": 303
        },
        "id": "Fk-j6aoCWxjh",
        "outputId": "74a97049-306c-457c-9065-0285b57a1044"
      },
      "outputs": [],
      "source": [
        "df.isnull().sum()\n",
        "# Check for null values in dataset."
      ]
    },
    {
      "cell_type": "code",
      "execution_count": null,
      "metadata": {
        "colab": {
          "base_uri": "https://localhost:8080/",
          "height": 436
        },
        "id": "U21b_BhYWyvn",
        "outputId": "0b0bfa98-9758-45be-fbf8-ba6238d2f57b"
      },
      "outputs": [],
      "source": [
        "plt.subplots(figsize=(15,8))\n",
        "\n",
        "for i, col in enumerate(['total_bill', 'tip']):\n",
        "  plt.subplot(2,3, i + 1)\n",
        "  sb.distplot(df[col])\n",
        "plt.tight_layout()\n",
        "plt.show()\n",
        "# Shows positive skew in the data. This means the Median is above the Mean (i.e. some large tips are skewing the average higher.)"
      ]
    },
    {
      "cell_type": "code",
      "execution_count": null,
      "metadata": {
        "colab": {
          "base_uri": "https://localhost:8080/",
          "height": 416
        },
        "id": "ibDEag5cW0Ah",
        "outputId": "32944f7e-36c6-4f01-f317-b5f0b9ec6c82"
      },
      "outputs": [],
      "source": [
        "plt.subplots(figsize=(15,8))\n",
        "\n",
        "for i, col in enumerate(['total_bill', 'tip']):\n",
        "  plt.subplot(2,3, i + 1)\n",
        "  sb.boxplot(df[col])\n",
        "plt.tight_layout()\n",
        "plt.show()\n",
        "# This boxplot shows outliers in the data. "
      ]
    },
    {
      "cell_type": "code",
      "execution_count": null,
      "metadata": {
        "colab": {
          "base_uri": "https://localhost:8080/"
        },
        "id": "VZoSt5KpW1Nj",
        "outputId": "492ed9dd-e1d8-49f2-e31a-61ba43bcf02e"
      },
      "outputs": [],
      "source": [
        "df.shape, df[(df['total_bill']<45) & (df['tip']<7)].shape\n",
        "# Removing only 7 outliers from the dataset reduces the skew to not be so right-skewed."
      ]
    },
    {
      "cell_type": "code",
      "execution_count": 13,
      "metadata": {
        "id": "SIx0j6aSW2XP"
      },
      "outputs": [],
      "source": [
        "df = df[(df['total_bill']<45) & (df['tip']<7)]\n",
        "#remove outliers"
      ]
    },
    {
      "cell_type": "code",
      "execution_count": null,
      "metadata": {
        "colab": {
          "base_uri": "https://localhost:8080/",
          "height": 767
        },
        "id": "gRpKagKFW3rV",
        "outputId": "8cb1b577-e918-4665-97f5-61305759f504"
      },
      "outputs": [],
      "source": [
        "feat = df.loc[:,'sex':'size'].columns\n",
        "\n",
        "plt.subplots(figsize=(15,8))\n",
        "for i, col in enumerate(feat):\n",
        "  plt.subplot(2,3, i + 1)\n",
        "  sb.countplot(df[col])\n",
        "plt.tight_layout()\n",
        "plt.show()\n",
        "# Conclusions from this data:\n",
        "# - Footfall on weekends is more than that on weekdays\n",
        "# - People usually prefer dinner outside as compared to lunch.\n",
        "# - People going alone to restaurants is as rare as people going with a family of 5 or 6 persons."
      ]
    },
    {
      "cell_type": "code",
      "execution_count": null,
      "metadata": {
        "colab": {
          "base_uri": "https://localhost:8080/",
          "height": 472
        },
        "id": "joaIulnyW50b",
        "outputId": "bff44058-f94e-4aba-e43a-48e86f04b311"
      },
      "outputs": [],
      "source": [
        "plt.scatter(df['total_bill'], df['tip'])\n",
        "plt.title('Total Bill v/s Total Tip')\n",
        "plt.xlabel('Total Bill')\n",
        "plt.ylabel('Total Tip')\n",
        "plt.show()\n",
        "# Relation btw family size and tip given"
      ]
    },
    {
      "cell_type": "code",
      "execution_count": null,
      "metadata": {
        "colab": {
          "base_uri": "https://localhost:8080/",
          "height": 269
        },
        "id": "HMEpd7tjXvGq",
        "outputId": "22097c34-ba45-441d-9dea-796d02b3441e"
      },
      "outputs": [],
      "source": [
        "# set numeric_only parameter to True to avoid calculating the mean of non-numeric columns\n",
        "df.groupby(['size']).mean(numeric_only=True)"
      ]
    },
    {
      "cell_type": "code",
      "execution_count": null,
      "metadata": {
        "colab": {
          "base_uri": "https://localhost:8080/",
          "height": 143
        },
        "id": "eysGpMGoW-fV",
        "outputId": "e6a0dd32-787e-40a3-d53b-886fbf9611ea"
      },
      "outputs": [],
      "source": [
        "df.groupby(['time']).mean(numeric_only=True)"
      ]
    },
    {
      "cell_type": "code",
      "execution_count": null,
      "metadata": {
        "colab": {
          "base_uri": "https://localhost:8080/",
          "height": 206
        },
        "id": "VcmhANUtW_lv",
        "outputId": "0feb6709-6ffb-4bd5-e20d-e33e76c9a8f6"
      },
      "outputs": [],
      "source": [
        "df.groupby(['day']).mean(numeric_only=True)"
      ]
    },
    {
      "cell_type": "code",
      "execution_count": null,
      "metadata": {
        "colab": {
          "base_uri": "https://localhost:8080/",
          "height": 206
        },
        "id": "vUJUvapTXAlG",
        "outputId": "e4336e74-d7ac-4264-d843-7c4e569298e3"
      },
      "outputs": [],
      "source": [
        "le = LabelEncoder()\n",
        "\n",
        "for col in df.columns:\n",
        "  if df[col].dtype == object:\n",
        "    df[col] = le.fit_transform(df[col])\n",
        "\n",
        "df.head()"
      ]
    },
    {
      "cell_type": "code",
      "execution_count": null,
      "metadata": {
        "colab": {
          "base_uri": "https://localhost:8080/",
          "height": 599
        },
        "id": "ukyuFqYoXByC",
        "outputId": "eeee935f-d8cc-4653-8362-e38d313c4639"
      },
      "outputs": [],
      "source": [
        "# Heatmap can be used to determine variable correlations.\n",
        "plt.figure(figsize=(7,7))\n",
        "sb.heatmap(df.corr() > 0.7, annot = True, cbar = False)\n",
        "plt.show()"
      ]
    },
    {
      "cell_type": "code",
      "execution_count": null,
      "metadata": {
        "colab": {
          "base_uri": "https://localhost:8080/"
        },
        "id": "YpW_56iiXC-3",
        "outputId": "79582d35-c05c-456a-b45a-7f0e78642655"
      },
      "outputs": [],
      "source": [
        "# Using model to determine tip size\n",
        "features = df.drop('tip', axis=1)\n",
        "target = df['tip']\n",
        "\n",
        "#Split data into training and testing sets.\n",
        "X_train, X_val, Y_train, Y_val = train_test_split(features, target, test_size=0.2, random_state=22)\n",
        "X_train.shape, X_val.shape"
      ]
    },
    {
      "cell_type": "code",
      "execution_count": 22,
      "metadata": {
        "id": "ICZGYhheXEoX"
      },
      "outputs": [],
      "source": [
        "# Achieve stable and fast training of the model.\n",
        "scaler = StandardScaler()\n",
        "X_train = scaler.fit_transform(X_train)\n",
        "X_val = scaler.transform(X_val)"
      ]
    },
    {
      "cell_type": "code",
      "execution_count": null,
      "metadata": {
        "colab": {
          "base_uri": "https://localhost:8080/"
        },
        "id": "xfUvAWREXFoj",
        "outputId": "a0a29962-e9bf-41f8-fdc4-fba16ce6da56"
      },
      "outputs": [],
      "source": [
        "# Training & Testing\n",
        "models = [LinearRegression(), XGBRegressor(), RandomForestRegressor(), AdaBoostRegressor()]\n",
        "\n",
        "for i in range(4):\n",
        "  models[i].fit(X_train, Y_train)\n",
        "\n",
        "  print(f'{models[i]} : ')\n",
        "  pred_train = models[i].predict(X_train)\n",
        "  print('Training Accuracy : ', mae(Y_train, pred_train))\n",
        "\n",
        "  pred_val = models[i].predict(X_val)\n",
        "  print('Validation Accuracy : ', mae(Y_val, pred_val))\n",
        "  print()\n",
        "  # Random Forrest Regression gives the lowest mean error in this situation."
      ]
    }
  ],
  "metadata": {
    "colab": {
      "provenance": []
    },
    "kernelspec": {
      "display_name": "Python 3",
      "name": "python3"
    },
    "language_info": {
      "codemirror_mode": {
        "name": "ipython",
        "version": 3
      },
      "file_extension": ".py",
      "mimetype": "text/x-python",
      "name": "python",
      "nbconvert_exporter": "python",
      "pygments_lexer": "ipython3",
      "version": "3.12.7"
    }
  },
  "nbformat": 4,
  "nbformat_minor": 0
}
